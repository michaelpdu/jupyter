{
 "cells": [
  {
   "cell_type": "code",
   "execution_count": 5,
   "metadata": {},
   "outputs": [
    {
     "name": "stdout",
     "output_type": "stream",
     "text": [
      "[200 175  30] (3,)\n",
      "[[[200 175  30]]] (1, 1, 3)\n",
      "[[[200 175  30]\n",
      "  [200 175  30]]\n",
      "\n",
      " [[200 175  30]\n",
      "  [200 175  30]]] (2, 2, 3)\n"
     ]
    }
   ],
   "source": [
    "import numpy as np\n",
    "\n",
    "a = np.array([200,175,30])\n",
    "print(a,a.shape)\n",
    "a = a.reshape((1,1,3))\n",
    "print(a,a.shape)\n",
    "a = np.tile(a, [2,2,1])\n",
    "print(a,a.shape)"
   ]
  },
  {
   "cell_type": "code",
   "execution_count": 8,
   "metadata": {},
   "outputs": [
    {
     "name": "stdout",
     "output_type": "stream",
     "text": [
      "[[1 1]\n",
      " [2 2]]\n",
      "[2 3]\n",
      "[[2 3]\n",
      " [4 6]]\n"
     ]
    }
   ],
   "source": [
    "import numpy as np\n",
    "a = np.array([[1,1],[2,2]])\n",
    "print(a)\n",
    "b = np.array([2,3])\n",
    "print(b)\n",
    "print(a*b)"
   ]
  },
  {
   "cell_type": "code",
   "execution_count": 6,
   "metadata": {},
   "outputs": [
    {
     "name": "stdout",
     "output_type": "stream",
     "text": [
      "[[ 55  42 251]\n",
      " [ 21  58 204]\n",
      " [ 65 176 226]\n",
      " [114  53 168]\n",
      " [174 158 131]\n",
      " [ 41 247 129]\n",
      " [ 16 166 109]\n",
      " [246  66 125]\n",
      " [ 47 212 248]\n",
      " [252 181   7]]\n",
      "[0.19067647 0.68388268 0.53469046 0.35033081 0.20653309 0.5624894\n",
      " 0.1343749  0.85971887 0.46956145 0.48558901]\n"
     ]
    }
   ],
   "source": [
    "import numpy as np\n",
    "print(np.random.randint(256, size=(10, 3)))\n",
    "print(np.random.rand(10))"
   ]
  },
  {
   "cell_type": "code",
   "execution_count": 7,
   "metadata": {},
   "outputs": [
    {
     "data": {
      "text/plain": [
       "3"
      ]
     },
     "execution_count": 7,
     "metadata": {},
     "output_type": "execute_result"
    }
   ],
   "source": [
    "import numpy as np\n",
    "np.max([1,2,3])"
   ]
  },
  {
   "cell_type": "code",
   "execution_count": null,
   "metadata": {},
   "outputs": [],
   "source": []
  }
 ],
 "metadata": {
  "kernelspec": {
   "display_name": "Python 3",
   "language": "python",
   "name": "python3"
  },
  "language_info": {
   "codemirror_mode": {
    "name": "ipython",
    "version": 3
   },
   "file_extension": ".py",
   "mimetype": "text/x-python",
   "name": "python",
   "nbconvert_exporter": "python",
   "pygments_lexer": "ipython3",
   "version": "3.6.8"
  }
 },
 "nbformat": 4,
 "nbformat_minor": 2
}
