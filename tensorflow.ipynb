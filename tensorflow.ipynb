{
 "cells": [
  {
   "cell_type": "code",
   "execution_count": 6,
   "metadata": {},
   "outputs": [
    {
     "name": "stdout",
     "output_type": "stream",
     "text": [
      "[0.17968822]\n"
     ]
    }
   ],
   "source": [
    "import tensorflow as tf\n",
    "\n",
    "# 随机从均匀分布上产生一个tensor\n",
    "with tf.Session() as sess:\n",
    "    print(sess.run(tf.random_uniform([1], -1.0, 1.0, dtype=tf.float32)))"
   ]
  },
  {
   "cell_type": "code",
   "execution_count": 11,
   "metadata": {},
   "outputs": [
    {
     "name": "stdout",
     "output_type": "stream",
     "text": [
      "[[0. 0.]\n",
      " [0. 0.]]\n"
     ]
    }
   ],
   "source": [
    "import tensorflow as tf\n",
    "\n",
    "# 产生一个[2,2]的全零tensor\n",
    "biases = tf.Variable(tf.zeros([2,2]))\n",
    "init = tf.global_variables_initializer()\n",
    "with tf.Session() as sess:\n",
    "    sess.run(init)\n",
    "    print(sess.run(biases))"
   ]
  },
  {
   "cell_type": "code",
   "execution_count": 26,
   "metadata": {},
   "outputs": [
    {
     "name": "stdout",
     "output_type": "stream",
     "text": [
      "[[ 2.  6. 12.]\n",
      " [ 2.  6. 12.]\n",
      " [ 2.  6. 12.]]\n"
     ]
    }
   ],
   "source": [
    "import tensorflow as tf\n",
    "\n",
    "x = [[1,2,3],\n",
    "    [1,2,3],\n",
    "    [1,2,3]]\n",
    "x = tf.cast(x, tf.float32)\n",
    "y = [[2,3,4],\n",
    "     [2,3,4],\n",
    "     [2,3,4]]\n",
    "y = tf.cast(y, tf.float32)\n",
    "\n",
    "init = tf.global_variables_initializer()\n",
    "with tf.Session() as sess:\n",
    "    sess.run(init)\n",
    "    print(sess.run(tf.multiply(x,y)))"
   ]
  },
  {
   "cell_type": "code",
   "execution_count": 16,
   "metadata": {},
   "outputs": [
    {
     "name": "stdout",
     "output_type": "stream",
     "text": [
      "[[1, 2, 3], [1, 2, 3]]\n",
      "[[1 1]\n",
      " [2 2]\n",
      " [3 3]]\n",
      "2.0\n",
      "[1. 2. 3.]\n",
      "[2. 2.]\n"
     ]
    }
   ],
   "source": [
    "import tensorflow as tf\n",
    "import numpy as np\n",
    "\n",
    "x = [[1,2,3],\n",
    "      [1,2,3]]\n",
    "print(x)\n",
    "print(np.transpose(x))\n",
    "xx = tf.cast(x,tf.float32)\n",
    "\n",
    "mean_all = tf.reduce_mean(xx, keep_dims=False)\n",
    "mean_0 = tf.reduce_mean(xx, axis=0, keep_dims=False)\n",
    "mean_1 = tf.reduce_mean(xx, axis=1, keep_dims=False)\n",
    "\n",
    "with tf.Session() as sess:\n",
    "    m_a,m_0,m_1 = sess.run([mean_all, mean_0, mean_1])\n",
    " \n",
    "print(m_a)    # output: 2.0\n",
    "print(m_0)    # output: [ 1.  2.  3.]\n",
    "print(m_1)    # output:  [ 2.  2.]"
   ]
  },
  {
   "cell_type": "code",
   "execution_count": 20,
   "metadata": {},
   "outputs": [
    {
     "name": "stdout",
     "output_type": "stream",
     "text": [
      "0 [-0.42196473] [0.8057858]\n",
      "20 [-0.07911876] [0.39596522]\n",
      "40 [0.04792479] [0.3279]\n",
      "60 [0.08486017] [0.30811137]\n",
      "80 [0.09559841] [0.30235824]\n",
      "100 [0.09872033] [0.3006856]\n",
      "120 [0.09962797] [0.30019933]\n",
      "140 [0.09989185] [0.30005795]\n",
      "160 [0.09996856] [0.30001685]\n",
      "180 [0.09999086] [0.3000049]\n",
      "200 [0.09999735] [0.30000144]\n",
      "220 [0.09999923] [0.30000043]\n",
      "240 [0.09999978] [0.30000013]\n",
      "260 [0.0999999] [0.30000007]\n",
      "280 [0.0999999] [0.30000007]\n",
      "300 [0.0999999] [0.30000007]\n"
     ]
    }
   ],
   "source": [
    "import tensorflow as tf\n",
    "import numpy as np\n",
    "\n",
    "# 求解线性规划问题\n",
    "\n",
    "# create data\n",
    "x_data = np.random.rand(100).astype(np.float32)\n",
    "y_data = x_data*0.1 + 0.3\n",
    "\n",
    "# create tensorflow structure\n",
    "Weights = tf.Variable(tf.random_uniform([1], -1.0, 1.0))\n",
    "biases = tf.Variable(tf.zeros([1]))\n",
    "\n",
    "y = Weights*x_data + biases\n",
    "loss = tf.reduce_mean(tf.square(y-y_data))\n",
    "\n",
    "optimizer = tf.train.GradientDescentOptimizer(0.5)\n",
    "train = optimizer.minimize(loss)\n",
    "\n",
    "# \n",
    "init = tf.global_variables_initializer()\n",
    "\n",
    "sess = tf.Session()\n",
    "sess.run(init)          # Very important\n",
    "\n",
    "for step in range(301):\n",
    "    sess.run(train)\n",
    "    if step % 20 == 0:\n",
    "        print(step, sess.run(Weights), sess.run(biases))"
   ]
  },
  {
   "cell_type": "code",
   "execution_count": 4,
   "metadata": {},
   "outputs": [
    {
     "name": "stdout",
     "output_type": "stream",
     "text": [
      "grads1: [array([3., 3., 3.], dtype=float32), array([2., 2., 2.], dtype=float32), array([0., 0., 0.], dtype=float32), array([1., 1., 1.], dtype=float32)]\n",
      "grads2: [array([ -6.,  -9., -12.], dtype=float32), array([-4., -6., -8.], dtype=float32), array([3., 2., 2.], dtype=float32), array([-5., -5., -6.], dtype=float32)]\n"
     ]
    }
   ],
   "source": [
    "# tf.gradients的作用\n",
    "import tensorflow as tf\n",
    "\n",
    "# with tf.variable_scope('test_gradients'):\n",
    "with tf.variable_scope('test_gradients', reuse=True):\n",
    "    w1 = tf.get_variable('w1', shape=[3])\n",
    "    w2 = tf.get_variable('w2', shape=[3])\n",
    "    w3 = tf.get_variable('w3', shape=[3])\n",
    "    w4 = tf.get_variable('w4', shape=[3])\n",
    "\n",
    "    z1 = 3 * w1 + 2 * w2+ w3\n",
    "    z2 = -1 * w3 + w4\n",
    "\n",
    "    grads1 = tf.gradients([z1, z2], [w1, w2, w3, w4])\n",
    "    grads2 = tf.gradients([z1, z2], [w1, w2, w3, w4], grad_ys=[[-2.0, -3.0, -4.0], [-5.0, -5.0, -6.0]])\n",
    "\n",
    "    with tf.Session() as sess:\n",
    "        tf.global_variables_initializer().run()\n",
    "        g1, g2 = sess.run([grads1,grads2])\n",
    "        print('grads1:', g1)\n",
    "        print('grads2:', g2)"
   ]
  },
  {
   "cell_type": "code",
   "execution_count": null,
   "metadata": {},
   "outputs": [],
   "source": []
  },
  {
   "cell_type": "code",
   "execution_count": null,
   "metadata": {},
   "outputs": [],
   "source": []
  }
 ],
 "metadata": {
  "kernelspec": {
   "display_name": "Python 3",
   "language": "python",
   "name": "python3"
  },
  "language_info": {
   "codemirror_mode": {
    "name": "ipython",
    "version": 3
   },
   "file_extension": ".py",
   "mimetype": "text/x-python",
   "name": "python",
   "nbconvert_exporter": "python",
   "pygments_lexer": "ipython3",
   "version": "3.6.8"
  }
 },
 "nbformat": 4,
 "nbformat_minor": 2
}
